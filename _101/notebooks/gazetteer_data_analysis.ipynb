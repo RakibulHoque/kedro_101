{
 "cells": [
  {
   "cell_type": "markdown",
   "id": "f48f271a",
   "metadata": {},
   "source": [
    "Loading Data"
   ]
  },
  {
   "cell_type": "code",
   "execution_count": null,
   "id": "f0d7eae3",
   "metadata": {},
   "outputs": [],
   "source": [
    " %load_ext kedro.ipython"
   ]
  },
  {
   "cell_type": "code",
   "execution_count": null,
   "id": "8b6fa3a1",
   "metadata": {},
   "outputs": [],
   "source": [
    "catalog.list()"
   ]
  },
  {
   "cell_type": "code",
   "execution_count": null,
   "id": "c33bc953",
   "metadata": {},
   "outputs": [],
   "source": [
    "data = catalog.load(\"bangladesh_pois_json@local\")"
   ]
  },
  {
   "cell_type": "code",
   "execution_count": null,
   "id": "2d139439",
   "metadata": {},
   "outputs": [],
   "source": [
    "counter = 1\n",
    "for i, d in enumerate(data):\n",
    "    counter += i\n",
    "    x = d\n",
    "    break"
   ]
  },
  {
   "cell_type": "code",
   "execution_count": null,
   "id": "9317a55e",
   "metadata": {},
   "outputs": [],
   "source": [
    "import h3\n",
    "import numpy as np\n",
    "import pandas as pd\n",
    "poibatch = x"
   ]
  },
  {
   "cell_type": "code",
   "execution_count": null,
   "id": "29fbf8e8",
   "metadata": {},
   "outputs": [],
   "source": [
    "#utils\n",
    "def enbn_from_name(name):\n",
    "    enlist = None\n",
    "    bnlist = None\n",
    "    name_translate_en2bn = None\n",
    "    name_translate_bn2en = None\n",
    "    if isinstance(name, str):\n",
    "        extracted_bn_from_name = []\n",
    "        extracted_en_from_name = []\n",
    "        words = name.split(\" \")\n",
    "        for word in words:\n",
    "            if bool(regex.fullmatch(r'\\P{L}*\\p{Bengali}+(?:\\P{L}+\\p{Bengali}+)*\\P{L}*', word)):\n",
    "                extracted_bn_from_name.append(word)\n",
    "            else:\n",
    "                extracted_en_from_name.append(word)\n",
    "        if extracted_en_from_name: \n",
    "            enlist = \" \".join(extracted_en_from_name)\n",
    "        if extracted_bn_from_name: \n",
    "            bnlist = \" \".join(extracted_bn_from_name)\n",
    "        if extracted_en_from_name and not extracted_bn_from_name:\n",
    "            name_translate_en2bn = \" \".join(extracted_en_from_name)\n",
    "        if not extracted_en_from_name and extracted_bn_from_name:\n",
    "            name_translate_bn2en = \" \".join(extracted_bn_from_name)\n",
    "    return enlist, bnlist, name_translate_en2bn, name_translate_bn2en\n",
    "\n",
    "#utils\n",
    "def enbn_from_parts(addr_dictionary):\n",
    "    separator = GLOBAL_SEPARATOR\n",
    "    enlist = []\n",
    "    bnlist = []\n",
    "    name_translate_en2bn = None\n",
    "    name_translate_bn2en = None\n",
    "    for part in addr_dictionary.get(\"parts\"):\n",
    "        if part and part.get(\"names\", None): \n",
    "            name_keys = list(part.get(\"names\").keys())\n",
    "            for tag, value in part.get(\"names\").items():\n",
    "                extracted_bn_from_name = []\n",
    "                extracted_en_from_name = []\n",
    "                if tag == \"name\":\n",
    "                    words = value.split(\" \")\n",
    "                    for word in words:\n",
    "                        if bool(regex.fullmatch(r'\\P{L}*\\p{Bengali}+(?:\\P{L}+\\p{Bengali}+)*\\P{L}*', word)):\n",
    "                            extracted_bn_from_name.append(word)\n",
    "                        else:\n",
    "                            extracted_en_from_name.append(word)\n",
    "                    if extracted_en_from_name: enlist.append(\" \".join(extracted_en_from_name))\n",
    "                    if extracted_bn_from_name: bnlist.append(\" \".join(extracted_bn_from_name))\n",
    "                    if extracted_en_from_name and not extracted_bn_from_name:\n",
    "                        if part.get(\"lvl\") in ['street'] and \"name:bn\" not in name_keys:\n",
    "                            name_translate_en2bn = \" \".join(extracted_en_from_name)\n",
    "                    if not extracted_en_from_name and extracted_bn_from_name:\n",
    "                        if part.get(\"lvl\") in ['street'] and \"name:en\" not in name_keys:\n",
    "                            name_translate_bn2en = \" \".join(extracted_bn_from_name)\n",
    "                if tag == \"name:en\":\n",
    "                    enlist.append(value)\n",
    "                if tag == \"name:bn\":\n",
    "                    bnlist.append(value)\n",
    "        else:\n",
    "            return np.nan, np.nan, name_translate_en2bn, name_translate_bn2en\n",
    "    enlist = list(dict.fromkeys(enlist))    \n",
    "    bnlist = list(dict.fromkeys(bnlist))\n",
    "    return separator.join(enlist), separator.join(bnlist), name_translate_en2bn, name_translate_bn2en"
   ]
  },
  {
   "cell_type": "code",
   "execution_count": null,
   "id": "86462628",
   "metadata": {},
   "outputs": [],
   "source": [
    "poi_columns = [\"osm_id\", \"h3level9\", \"lat\", \"lon\", \"name\", \"name_en\", \"name_bn\", \n",
    "              \"need_translate_en2bn\", \"need_translate_bn2en\",\n",
    "              \"alt_names\", \"local_admin_name\", \"admin0_name\", \"admin2_name\", \n",
    "              \"addr_level\", \"poi_addr_match\", \"poi_class\", \"poi_keywords\"]\n",
    "h3_level = 9\n",
    "GLOBAL_SEPARATOR = \", \"\n",
    "separator = GLOBAL_SEPARATOR"
   ]
  },
  {
   "cell_type": "code",
   "execution_count": null,
   "id": "5da674aa",
   "metadata": {},
   "outputs": [],
   "source": [
    "z = \"সোহাগ বুকস এন্ড স্টেশনারি sohag books\""
   ]
  },
  {
   "cell_type": "code",
   "execution_count": null,
   "id": "5da78678",
   "metadata": {},
   "outputs": [],
   "source": [
    "enbn_from_name(z)"
   ]
  },
  {
   "cell_type": "code",
   "execution_count": null,
   "id": "f7fd3fab",
   "metadata": {},
   "outputs": [],
   "source": [
    "poibatch[~poibatch[\"need_translate_en2bn_extension\"].isna()][\"need_translate_en2bn_extension\"]"
   ]
  },
  {
   "cell_type": "code",
   "execution_count": null,
   "id": "7e1d8b52",
   "metadata": {},
   "outputs": [],
   "source": [
    "poibatch[\"need_translate_en2bn_short\"].fillna(\"\") "
   ]
  },
  {
   "cell_type": "code",
   "execution_count": null,
   "id": "322406f4",
   "metadata": {},
   "outputs": [],
   "source": [
    "poibatch[\"need_translate_en2bn_short\"].fillna(\"\") + separator + poibatch[\"need_translate_en2bn_extension\"].fillna(\"\")"
   ]
  },
  {
   "cell_type": "code",
   "execution_count": null,
   "id": "1e93627b",
   "metadata": {},
   "outputs": [],
   "source": [
    "poibatch[~poibatch[\"need_translate_bn2en_short\"].isna()][\"need_translate_bn2en_short\"]"
   ]
  },
  {
   "cell_type": "code",
   "execution_count": null,
   "id": "053e4a78",
   "metadata": {},
   "outputs": [],
   "source": [
    "poibatch[\"h3level9\"] = poibatch[\"center_point\"].apply(lambda x: h3.geo_to_h3(lat=x.get('lat'), lng=x.get('lon'), resolution=h3_level))\n",
    "poibatch[\"lat\"] = poibatch[\"center_point\"].apply(lambda x: x.get('lat'))\n",
    "poibatch[\"lon\"] = poibatch[\"center_point\"].apply(lambda x: x.get('lon'))\n",
    "poibatch[\"name_en_short\"], poibatch[\"name_bn_short\"], poibatch[\"need_translate_en2bn_short\"], poibatch[\"need_translate_bn2en_short\"] \\\n",
    "        = zip(*poibatch[\"name\"].apply(lambda x: enbn_from_name(x)))\n",
    "poibatch[\"name_en_extension\"], poibatch[\"name_bn_extension\"], poibatch[\"need_translate_en2bn_extension\"], poibatch[\"need_translate_bn2en_extension\"] \\\n",
    "    = zip(*poibatch[\"address\"].apply(lambda x: enbn_from_parts(x)))\n",
    "\n",
    "poibatch[\"name_en\"] = (poibatch[\"name_en_short\"].fillna(\"\") + separator + poibatch[\"name_en_extension\"]).str.lstrip(separator).fillna('')\n",
    "poibatch[\"name_bn\"] = (poibatch[\"name_bn_short\"].fillna(\"\") + separator + poibatch[\"name_bn_extension\"]).str.lstrip(separator).fillna('')\n",
    "poibatch[\"name_en\"] = poibatch[\"name_en\"].str.split(separator).apply(lambda x: separator.join(list(dict.fromkeys(x))))\n",
    "poibatch[\"name_bn\"] = poibatch[\"name_bn\"].str.split(separator).apply(lambda x: separator.join(list(dict.fromkeys(x))))\n",
    "\n",
    "poibatch[\"need_translate_en2bn\"] = (poibatch[\"need_translate_en2bn_short\"].fillna(\"\") + separator + poibatch[\"need_translate_en2bn_extension\"].fillna(\"\")).str.lstrip(separator).fillna('')\n",
    "poibatch[\"need_translate_bn2en\"] = (poibatch[\"need_translate_bn2en_short\"].fillna(\"\") + separator + poibatch[\"need_translate_bn2en_extension\"].fillna(\"\")).str.lstrip(separator).fillna('')\n",
    "poibatch[\"need_translate_en2bn\"] = poibatch[\"need_translate_en2bn\"].str.split(separator).apply(lambda x: separator.join(list(dict.fromkeys(x))))\n",
    "poibatch[\"need_translate_bn2en\"] = poibatch[\"need_translate_bn2en\"].str.split(separator).apply(lambda x: separator.join(list(dict.fromkeys(x))))\n",
    "\n",
    "# found_columns = set(poibatch.columns)\n",
    "# missing_columns = set(poi_columns).union(found_columns) - found_columns\n",
    "# if missing_columns:\n",
    "#     for col in missing_columns:\n",
    "#         poibatch[col] = np.nan"
   ]
  },
  {
   "cell_type": "code",
   "execution_count": null,
   "id": "f04107f5",
   "metadata": {},
   "outputs": [],
   "source": [
    "poibatch[[\"name\", \"name_en\", \"name_bn\", \"need_translate_bn2en\", \"need_translate_en2bn\"]]"
   ]
  },
  {
   "cell_type": "code",
   "execution_count": null,
   "id": "dffddac7",
   "metadata": {},
   "outputs": [],
   "source": [
    "poibatch[~poibatch[\"need_translate_bn2en_extension\"].isna()]"
   ]
  },
  {
   "cell_type": "code",
   "execution_count": null,
   "id": "d348e16d",
   "metadata": {},
   "outputs": [],
   "source": [
    "x.columns"
   ]
  },
  {
   "cell_type": "code",
   "execution_count": null,
   "id": "9a760bc2",
   "metadata": {
    "scrolled": true
   },
   "outputs": [],
   "source": [
    "import h3\n",
    "x[\"h3level9\"] = x[\"center_point\"].apply(lambda x: h3.geo_to_h3(lat=x.get('lat'), lng=x.get('lon'), resolution=9))"
   ]
  },
  {
   "cell_type": "code",
   "execution_count": null,
   "id": "d01edd33",
   "metadata": {},
   "outputs": [],
   "source": [
    "x[\"lat\"] = x[\"center_point\"].apply(lambda x: x.get('lat'))\n",
    "x[\"lon\"] = x[\"center_point\"].apply(lambda x: x.get('lon'))"
   ]
  },
  {
   "cell_type": "code",
   "execution_count": null,
   "id": "c01145fb",
   "metadata": {},
   "outputs": [],
   "source": [
    "import math\n",
    "import regex\n",
    "import numpy as np\n",
    "def enbn_from_parts(addr_dictionary):\n",
    "    enlist = []\n",
    "    bnlist = []\n",
    "    name_translate_en2bn = None\n",
    "    name_translate_bn2en = None\n",
    "    for part in addr_dictionary.get(\"parts\"):\n",
    "        if part and part.get(\"names\", None): \n",
    "            name_keys = list(part.get(\"names\").keys())\n",
    "            for tag, value in part.get(\"names\").items():\n",
    "                extracted_bn_from_name = []\n",
    "                extracted_en_from_name = []\n",
    "                if tag == \"name\":\n",
    "                    words = value.split(\" \")\n",
    "                    for word in words:\n",
    "                        if bool(regex.fullmatch(r'\\P{L}*\\p{Bengali}+(?:\\P{L}+\\p{Bengali}+)*\\P{L}*', word)):\n",
    "                            extracted_bn_from_name.append(word)\n",
    "                        else:\n",
    "                            extracted_en_from_name.append(word)\n",
    "                    if extracted_en_from_name: enlist.append(\" \".join(extracted_en_from_name))\n",
    "                    if extracted_bn_from_name: bnlist.append(\" \".join(extracted_bn_from_name))\n",
    "                    if extracted_en_from_name and not extracted_bn_from_name:\n",
    "                        if part.get(\"lvl\") in ['street'] and \"name:bn\" not in name_keys:\n",
    "                            name_translate_en2bn = \" \".join(extracted_en_from_name)\n",
    "                    if not extracted_en_from_name and extracted_bn_from_name:\n",
    "                        if part.get(\"lvl\") in ['street'] and \"name:en\" not in name_keys:\n",
    "                            name_translate_bn2en = \" \".join(extracted_bn_from_name)\n",
    "                if tag == \"name:en\":\n",
    "                    enlist.append(value)\n",
    "                if tag == \"name:bn\":\n",
    "                    bnlist.append(value)\n",
    "    enlist = list(dict.fromkeys(enlist))    \n",
    "    bnlist = list(dict.fromkeys(bnlist))\n",
    "    return \", \".join(enlist), \", \".join(bnlist), name_translate_en2bn, name_translate_bn2en\n",
    "#     return enlist, bnlist, name_translate_en2bn, name_translate_bn2en"
   ]
  },
  {
   "cell_type": "code",
   "execution_count": null,
   "id": "47167267",
   "metadata": {},
   "outputs": [],
   "source": [
    "def enbn_from_name(name):\n",
    "    enlist = None\n",
    "    bnlist = None\n",
    "    name_translate_en2bn = None\n",
    "    name_translate_bn2en = None\n",
    "    if isinstance(name, str):\n",
    "        extracted_bn_from_name = []\n",
    "        extracted_en_from_name = []\n",
    "        words = name.split(\" \")\n",
    "        for word in words:\n",
    "            if bool(regex.fullmatch(r'\\P{L}*\\p{Bengali}+(?:\\P{L}+\\p{Bengali}+)*\\P{L}*', word)):\n",
    "                extracted_bn_from_name.append(word)\n",
    "            else:\n",
    "                extracted_en_from_name.append(word)\n",
    "        if extracted_en_from_name: \n",
    "            enlist = \" \".join(extracted_en_from_name)\n",
    "        if extracted_bn_from_name: \n",
    "            bnlist = \" \".join(extracted_bn_from_name)\n",
    "        if extracted_en_from_name and not extracted_bn_from_name:\n",
    "            name_translate_en2bn = \" \".join(extracted_en_from_name)\n",
    "        if not extracted_en_from_name and extracted_bn_from_name:\n",
    "            name_translate_bn2en = \" \".join(extracted_bn_from_name)\n",
    "    return enlist, bnlist, name_translate_en2bn, name_translate_bn2en"
   ]
  },
  {
   "cell_type": "code",
   "execution_count": null,
   "id": "a41495a7",
   "metadata": {},
   "outputs": [],
   "source": [
    "x[\"name_en_short\"], x[\"name_bn_short\"], x[\"need_translate_en2bn_short\"], x[\"need_translate_bn2en_short\"] \\\n",
    "    = zip(*x[\"name\"].apply(lambda x: enbn_from_name(x)))"
   ]
  },
  {
   "cell_type": "code",
   "execution_count": null,
   "id": "2357ab22",
   "metadata": {},
   "outputs": [],
   "source": [
    "x[\"name_en_extension\"], x[\"name_bn_extension\"], x[\"need_translate_en2bn_extension\"], x[\"need_translate_bn2en_extension\"] \\\n",
    "    = zip(*x[\"address\"].apply(lambda x: enbn_from_parts(x)))"
   ]
  },
  {
   "cell_type": "code",
   "execution_count": null,
   "id": "70bfc2af",
   "metadata": {},
   "outputs": [],
   "source": [
    "x[\"name_en\"] = (x[\"name_en_short\"].fillna(\"\") + \", \" + x[\"name_en_extension\"]).str.lstrip(',')\n",
    "x[\"name_bn\"] = (x[\"name_bn_short\"].fillna(\"\") + \", \" + x[\"name_bn_extension\"]).str.lstrip(',')"
   ]
  },
  {
   "cell_type": "code",
   "execution_count": null,
   "id": "f6e714f8",
   "metadata": {},
   "outputs": [],
   "source": [
    "x[\"name_en\"] = x[\"name_en\"].str.split(\", \").apply(lambda x: \", \".join(list(dict.fromkeys(x))))\n",
    "x[\"name_bn\"] = x[\"name_bn\"].str.split(\", \").apply(lambda x: \", \".join(list(dict.fromkeys(x))))"
   ]
  },
  {
   "cell_type": "code",
   "execution_count": null,
   "id": "a86c1ef3",
   "metadata": {},
   "outputs": [],
   "source": [
    "x[\"need_translate_en2bn\"] = (x[\"need_translate_en2bn_short\"].fillna(\"\") + \",\" + x[\"need_translate_en2bn_extension\"]).str.lstrip(',')\n",
    "x[\"need_translate_bn2en\"] = (x[\"need_translate_bn2en_short\"].fillna(\"\") + \",\" + x[\"need_translate_bn2en_extension\"]).str.lstrip(',')"
   ]
  },
  {
   "cell_type": "code",
   "execution_count": null,
   "id": "7935f790",
   "metadata": {},
   "outputs": [],
   "source": [
    "# x[x[\"need_translate_en2bn\"].notna()]"
   ]
  },
  {
   "cell_type": "code",
   "execution_count": null,
   "id": "bd5d88d7",
   "metadata": {},
   "outputs": [],
   "source": [
    "poi_info = x[[\"osm_id\", \"h3level9\", \"lat\", \"lon\", \"name\", \n",
    "#               \"name_en\", \"name_bn\", \"need_translate_en2bn\", \"need_translate_bn2en\",\n",
    "              \"name_en_short\", \"name_bn_short\", \"need_translate_en2bn_short\", \"need_translate_bn2en_short\",\n",
    "              \"name_en_extension\", \"name_bn_extension\", \"need_translate_en2bn_extension\", \"need_translate_bn2en_extension\",\n",
    "              \"alt_names\", \"local_admin_name\", \"admin0_name\", \"admin2_name\", \n",
    "              \"addr_level\", \"poi_addr_match\", \"poi_class\", \"poi_keywords\"]]"
   ]
  },
  {
   "cell_type": "code",
   "execution_count": null,
   "id": "1ec3e2d4",
   "metadata": {
    "scrolled": true
   },
   "outputs": [],
   "source": [
    "poi_info"
   ]
  },
  {
   "cell_type": "markdown",
   "id": "5d66c94d",
   "metadata": {},
   "source": [
    "Cleaning Data"
   ]
  },
  {
   "cell_type": "code",
   "execution_count": null,
   "id": "ad7c4ff6",
   "metadata": {},
   "outputs": [],
   "source": [
    "gadm_data = catalog.load(\"geojson_bangladesh@gpd\")\n",
    "gadm_data"
   ]
  },
  {
   "cell_type": "code",
   "execution_count": null,
   "id": "d2b58bce",
   "metadata": {},
   "outputs": [],
   "source": [
    "import geopandas as gpd"
   ]
  },
  {
   "cell_type": "code",
   "execution_count": null,
   "id": "5f165df5",
   "metadata": {},
   "outputs": [],
   "source": [
    "bdl0 = gadm_data['gadm41_BGD_0.json']()\n",
    "bdl1 = gadm_data['gadm41_BGD_1.json']()\n",
    "bdl2 = gadm_data['gadm41_BGD_2.json']()\n",
    "bdl3 = gadm_data['gadm41_BGD_3.json']()\n",
    "bdl4 = gadm_data['gadm41_BGD_4.json']()"
   ]
  },
  {
   "cell_type": "code",
   "execution_count": null,
   "id": "8e192fc3",
   "metadata": {},
   "outputs": [],
   "source": [
    "bdl4"
   ]
  },
  {
   "cell_type": "code",
   "execution_count": null,
   "id": "e125b637",
   "metadata": {},
   "outputs": [],
   "source": [
    "import geopandas as gpd\n",
    "import h3pandas\n",
    "\n",
    "# h3.polyfill_polygon("
   ]
  },
  {
   "cell_type": "code",
   "execution_count": null,
   "id": "a5678319",
   "metadata": {},
   "outputs": [],
   "source": [
    "gdf = bdl4[[\"geometry\"]]\n",
    "gdf_h3l9 = gdf.h3.polyfill(9)\n",
    "f = gdf_h3l9.explode(\"h3_polyfill\")\n",
    "len(f[\"h3_polyfill\"].unique())"
   ]
  },
  {
   "cell_type": "code",
   "execution_count": null,
   "id": "def82e0c",
   "metadata": {},
   "outputs": [],
   "source": [
    "gdf = bdl0[[\"geometry\"]]\n",
    "gdf_h3l9 = gdf.h3.polyfill(9)\n",
    "f = gdf_h3l9.explode(\"h3_polyfill\")\n",
    "len(f[\"h3_polyfill\"].unique())"
   ]
  },
  {
   "cell_type": "code",
   "execution_count": null,
   "id": "055cdf89",
   "metadata": {},
   "outputs": [],
   "source": [
    "((1221635 - 1217895)/1221635)*100"
   ]
  },
  {
   "cell_type": "code",
   "execution_count": null,
   "id": "83efaec7",
   "metadata": {},
   "outputs": [],
   "source": [
    "bdl420 = bdl4[[\"COUNTRY\", \"NAME_1\", \"NAME_2\", \"NAME_3\", \"NAME_4\"]]\n",
    "bdl420.columns = [\"country\", \"division\", \"district\", \"thana\", \"union\"]"
   ]
  },
  {
   "cell_type": "code",
   "execution_count": null,
   "id": "f01b1382",
   "metadata": {},
   "outputs": [],
   "source": [
    "gdf = bdl4[[\"geometry\"]]\n",
    "gdf_h3l9 = gdf.h3.polyfill(9)"
   ]
  },
  {
   "cell_type": "code",
   "execution_count": null,
   "id": "1df59d24",
   "metadata": {},
   "outputs": [],
   "source": [
    "bdl420"
   ]
  },
  {
   "cell_type": "code",
   "execution_count": null,
   "id": "1e8e3aab",
   "metadata": {},
   "outputs": [],
   "source": [
    "req_h3_data = gdf_h3l9[[\"h3_polyfill\"]].join(bdl420)"
   ]
  },
  {
   "cell_type": "code",
   "execution_count": null,
   "id": "c30f93a3",
   "metadata": {},
   "outputs": [],
   "source": [
    "req_h3_data"
   ]
  },
  {
   "cell_type": "code",
   "execution_count": null,
   "id": "e64c897b",
   "metadata": {},
   "outputs": [],
   "source": [
    "import hashlib\n",
    "\n",
    "def md5hash(s: str): \n",
    "    return hashlib.md5(s.encode('utf-8')).hexdigest()\n",
    "\n",
    "req_h3_data[\"region_hash\"] = req_h3_data.apply(lambda x: md5hash(\"-\".join((x[\"country\"], x[\"division\"], x[\"district\"], x[\"thana\"], x[\"union\"]))), axis = 1)"
   ]
  },
  {
   "cell_type": "code",
   "execution_count": null,
   "id": "90dd756a",
   "metadata": {},
   "outputs": [],
   "source": [
    "len(req_h3_data[\"region_hash\"].unique())"
   ]
  },
  {
   "cell_type": "code",
   "execution_count": null,
   "id": "d86825b7",
   "metadata": {},
   "outputs": [],
   "source": [
    "req_h3_data.rename(columns={\"h3_polyfill\": \"h3level9\"}, inplace=True)"
   ]
  },
  {
   "cell_type": "code",
   "execution_count": null,
   "id": "d419680a",
   "metadata": {},
   "outputs": [],
   "source": [
    "req_h3_data = req_h3_data.explode(\"h3level9\")"
   ]
  },
  {
   "cell_type": "code",
   "execution_count": null,
   "id": "9dbba096",
   "metadata": {},
   "outputs": [],
   "source": [
    "len(req_h3_data[\"h3level9\"].unique())"
   ]
  },
  {
   "cell_type": "code",
   "execution_count": null,
   "id": "5e45085a",
   "metadata": {},
   "outputs": [],
   "source": [
    "req_h3_data.info()"
   ]
  },
  {
   "cell_type": "code",
   "execution_count": null,
   "id": "5dc67be6",
   "metadata": {},
   "outputs": [],
   "source": [
    "req_h3_data[req_h3_data[\"h3level9\"].isna()]"
   ]
  },
  {
   "cell_type": "code",
   "execution_count": null,
   "id": "6e464b27",
   "metadata": {},
   "outputs": [],
   "source": [
    "req_h3_data[req_h3_data[\"region_hash\"].eq(\"22f2fc16bb22466c8679b40650c491ff\")]"
   ]
  },
  {
   "cell_type": "code",
   "execution_count": null,
   "id": "758434a3",
   "metadata": {},
   "outputs": [],
   "source": [
    "poi_info"
   ]
  },
  {
   "cell_type": "code",
   "execution_count": null,
   "id": "c1b7a0da",
   "metadata": {},
   "outputs": [],
   "source": [
    "final_data = poi_info.merge(req_h3_data, how=\"left\", on=\"h3level9\")"
   ]
  },
  {
   "cell_type": "code",
   "execution_count": null,
   "id": "6333c144",
   "metadata": {},
   "outputs": [],
   "source": [
    "final_data[\"district\"] = final_data[\"district\"].fillna('foo')"
   ]
  },
  {
   "cell_type": "code",
   "execution_count": null,
   "id": "63a0eb01",
   "metadata": {},
   "outputs": [],
   "source": [
    "final_data"
   ]
  },
  {
   "cell_type": "code",
   "execution_count": null,
   "id": "a414c58d",
   "metadata": {},
   "outputs": [],
   "source": []
  },
  {
   "cell_type": "code",
   "execution_count": null,
   "id": "39140b51",
   "metadata": {},
   "outputs": [],
   "source": [
    "groups = final_data.groupby(by=\"district\")\n",
    "for k, g in groups:\n",
    "#     g.to_csv(f'{k}.csv')\n",
    "    print(k)\n",
    "    "
   ]
  },
  {
   "cell_type": "code",
   "execution_count": null,
   "id": "be386d45",
   "metadata": {},
   "outputs": [],
   "source": [
    "a = set([1,2,3,5])"
   ]
  },
  {
   "cell_type": "code",
   "execution_count": null,
   "id": "32c459f3",
   "metadata": {},
   "outputs": [],
   "source": [
    "b = set([1,2,3])"
   ]
  },
  {
   "cell_type": "code",
   "execution_count": null,
   "id": "14becdb3",
   "metadata": {},
   "outputs": [],
   "source": [
    "a.union(b) - b"
   ]
  },
  {
   "cell_type": "code",
   "execution_count": null,
   "id": "f961bb7a",
   "metadata": {},
   "outputs": [],
   "source": [
    "import pandas as pd\n",
    "import numpy as np\n",
    "path = \"D:\\\\MY_REPOSITORY\\\\kedro_101\\\\_101\\\\data\\\\02_intermediate\\\\bdh3\\\\csv\\\\poi\\\\Dhaka.csv\".replace(\"\\\\\", \"/\")"
   ]
  },
  {
   "cell_type": "code",
   "execution_count": null,
   "id": "b04525dc",
   "metadata": {},
   "outputs": [],
   "source": [
    "path"
   ]
  },
  {
   "cell_type": "code",
   "execution_count": null,
   "id": "efe1caf9",
   "metadata": {},
   "outputs": [],
   "source": [
    "foo = pd.read_csv(path)"
   ]
  },
  {
   "cell_type": "code",
   "execution_count": null,
   "id": "1dce4b7e",
   "metadata": {},
   "outputs": [],
   "source": [
    "foo"
   ]
  },
  {
   "cell_type": "code",
   "execution_count": null,
   "id": "b080c87b",
   "metadata": {},
   "outputs": [],
   "source": [
    "foo[~foo[\"need_translate_bn2en\"].isna()]"
   ]
  },
  {
   "cell_type": "code",
   "execution_count": null,
   "id": "554df0cd",
   "metadata": {},
   "outputs": [],
   "source": [
    "foo"
   ]
  },
  {
   "cell_type": "code",
   "execution_count": null,
   "id": "fc0ed53a",
   "metadata": {},
   "outputs": [],
   "source": [
    "if set():\n",
    "    print(1)"
   ]
  },
  {
   "cell_type": "code",
   "execution_count": null,
   "id": "fc67fe05",
   "metadata": {},
   "outputs": [],
   "source": []
  }
 ],
 "metadata": {
  "kernelspec": {
   "display_name": "Python 3 (ipykernel)",
   "language": "python",
   "name": "python3"
  },
  "language_info": {
   "codemirror_mode": {
    "name": "ipython",
    "version": 3
   },
   "file_extension": ".py",
   "mimetype": "text/x-python",
   "name": "python",
   "nbconvert_exporter": "python",
   "pygments_lexer": "ipython3",
   "version": "3.9.10"
  }
 },
 "nbformat": 4,
 "nbformat_minor": 5
}
