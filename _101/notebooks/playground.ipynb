{
 "cells": [
  {
   "cell_type": "markdown",
   "id": "f48f271a",
   "metadata": {},
   "source": [
    "Loading Data"
   ]
  },
  {
   "cell_type": "code",
   "execution_count": null,
   "id": "f0d7eae3",
   "metadata": {},
   "outputs": [],
   "source": [
    " %load_ext kedro.ipython"
   ]
  },
  {
   "cell_type": "code",
   "execution_count": null,
   "id": "a557f6db",
   "metadata": {},
   "outputs": [],
   "source": [
    "import zipfile, io"
   ]
  },
  {
   "cell_type": "code",
   "execution_count": null,
   "id": "8b6fa3a1",
   "metadata": {},
   "outputs": [],
   "source": [
    "catalog.list()"
   ]
  },
  {
   "cell_type": "code",
   "execution_count": null,
   "id": "b1c16a1e",
   "metadata": {},
   "outputs": [],
   "source": [
    "data = catalog.load('gadm_bangladesh_level_00')  # DOES NOT WORK: REQUEST TIMEOUT"
   ]
  },
  {
   "cell_type": "code",
   "execution_count": null,
   "id": "9f7ca22d",
   "metadata": {},
   "outputs": [],
   "source": [
    "z = zipfile.ZipFile(io.BytesIO(data.content))"
   ]
  },
  {
   "cell_type": "code",
   "execution_count": null,
   "id": "eda80b96",
   "metadata": {},
   "outputs": [],
   "source": [
    "z.extractall(\"/d/MY_REPOSITORY/kedro_101/_101/01_raw/bdmaps\")  # DOES NOT WORK: REQUEST TIMEOUT"
   ]
  },
  {
   "cell_type": "markdown",
   "id": "5d66c94d",
   "metadata": {},
   "source": [
    "Cleaning Data"
   ]
  },
  {
   "cell_type": "code",
   "execution_count": 1,
   "id": "d2b58bce",
   "metadata": {},
   "outputs": [],
   "source": [
    "import geopandas"
   ]
  },
  {
   "cell_type": "code",
   "execution_count": null,
   "id": "5f165df5",
   "metadata": {},
   "outputs": [],
   "source": []
  }
 ],
 "metadata": {
  "kernelspec": {
   "display_name": "Python 3 (ipykernel)",
   "language": "python",
   "name": "python3"
  },
  "language_info": {
   "codemirror_mode": {
    "name": "ipython",
    "version": 3
   },
   "file_extension": ".py",
   "mimetype": "text/x-python",
   "name": "python",
   "nbconvert_exporter": "python",
   "pygments_lexer": "ipython3",
   "version": "3.9.10"
  }
 },
 "nbformat": 4,
 "nbformat_minor": 5
}
