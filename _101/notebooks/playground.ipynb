{
 "cells": [
  {
   "cell_type": "markdown",
   "id": "f48f271a",
   "metadata": {},
   "source": [
    "Loading Data"
   ]
  },
  {
   "cell_type": "code",
   "execution_count": null,
   "id": "f0d7eae3",
   "metadata": {},
   "outputs": [],
   "source": [
    " %load_ext kedro.ipython"
   ]
  },
  {
   "cell_type": "code",
   "execution_count": null,
   "id": "8b6fa3a1",
   "metadata": {},
   "outputs": [],
   "source": [
    "catalog.list()"
   ]
  },
  {
   "cell_type": "code",
   "execution_count": null,
   "id": "f1d949b8",
   "metadata": {},
   "outputs": [],
   "source": [
    "poi_data = catalog.load(\"bangladesh_pois_json@local\")"
   ]
  },
  {
   "cell_type": "code",
   "execution_count": null,
   "id": "ad7c4ff6",
   "metadata": {},
   "outputs": [],
   "source": [
    "gadm_data = catalog.load(\"geojson_bangladesh\")\n",
    "gadm_data"
   ]
  },
  {
   "cell_type": "markdown",
   "id": "5d66c94d",
   "metadata": {},
   "source": [
    "Cleaning Data"
   ]
  },
  {
   "cell_type": "code",
   "execution_count": null,
   "id": "d2b58bce",
   "metadata": {},
   "outputs": [],
   "source": [
    "import geopandas as gpd"
   ]
  },
  {
   "cell_type": "code",
   "execution_count": null,
   "id": "5f165df5",
   "metadata": {},
   "outputs": [],
   "source": [
    "bdl0 = gadm_data['gadm41_BGD_0.json']()\n",
    "bdl1 = gadm_data['gadm41_BGD_1.json']()\n",
    "bdl2 = gadm_data['gadm41_BGD_2.json']()\n",
    "bdl3 = gadm_data['gadm41_BGD_3.json']()\n",
    "bdl4 = gadm_data['gadm41_BGD_4.json']()"
   ]
  },
  {
   "cell_type": "code",
   "execution_count": null,
   "id": "8e192fc3",
   "metadata": {},
   "outputs": [],
   "source": [
    "bdl1"
   ]
  },
  {
   "cell_type": "code",
   "execution_count": null,
   "id": "a5678319",
   "metadata": {},
   "outputs": [],
   "source": [
    "bdl4[\"geometry\"].iloc[100]"
   ]
  },
  {
   "cell_type": "markdown",
   "id": "bdd59dcb",
   "metadata": {},
   "source": [
    "Translator"
   ]
  },
  {
   "cell_type": "code",
   "execution_count": null,
   "id": "40851968",
   "metadata": {},
   "outputs": [],
   "source": [
    "poi_data = catalog.load(\"bn_phrases\")"
   ]
  },
  {
   "cell_type": "code",
   "execution_count": null,
   "id": "826d934d",
   "metadata": {},
   "outputs": [],
   "source": [
    "en_set = set()\n",
    "bn_set = set()\n",
    "for key, value in poi_data.items():\n",
    "    district_poi_data = value()\n",
    "    en_set = en_set.union(set(district_poi_data[~district_poi_data[\"need_translate_en2bn\"].isna()][\"need_translate_en2bn\"].unique().tolist()))\n",
    "    bn_set = bn_set.union(set(district_poi_data[~district_poi_data[\"need_translate_bn2en\"].isna()][\"need_translate_bn2en\"].unique().tolist()))"
   ]
  },
  {
   "cell_type": "code",
   "execution_count": null,
   "id": "71b68872",
   "metadata": {},
   "outputs": [],
   "source": [
    "bn_set"
   ]
  },
  {
   "cell_type": "code",
   "execution_count": null,
   "id": "ccdeb176",
   "metadata": {},
   "outputs": [],
   "source": [
    "mym_poi = poi_data[\"Mymensingh.csv\"]()"
   ]
  },
  {
   "cell_type": "code",
   "execution_count": null,
   "id": "89358a89",
   "metadata": {},
   "outputs": [],
   "source": [
    "district_poi_data = mym_poi\n",
    "district_poi_data[\"translated2bn\"] = district_poi_data[\"need_translate_en2bn\"].apply(lambda x: translator_en2bn.translate(x) if isinstance(x, str) else None)\n",
    "district_poi_bn_dict[key] = district_poi_data"
   ]
  },
  {
   "cell_type": "code",
   "execution_count": null,
   "id": "5d3910ba",
   "metadata": {},
   "outputs": [],
   "source": [
    "for "
   ]
  },
  {
   "cell_type": "code",
   "execution_count": null,
   "id": "b581bf1a",
   "metadata": {},
   "outputs": [],
   "source": [
    "mym_poi[~mym_poi[\"need_translate_en2bn\"].isna()]"
   ]
  },
  {
   "cell_type": "code",
   "execution_count": null,
   "id": "d0ce9741",
   "metadata": {},
   "outputs": [],
   "source": [
    "mym_poi[\"translated2bn\"] = mym_poi[~mym_poi[\"need_translate_bn2en\"].isna()]"
   ]
  },
  {
   "cell_type": "code",
   "execution_count": null,
   "id": "cde1d6be",
   "metadata": {},
   "outputs": [],
   "source": [
    "from translate import Translator"
   ]
  },
  {
   "cell_type": "code",
   "execution_count": null,
   "id": "5a20dff6",
   "metadata": {},
   "outputs": [],
   "source": [
    "translator = Translator(to_lang=\"bn\")"
   ]
  },
  {
   "cell_type": "code",
   "execution_count": null,
   "id": "a0556e06",
   "metadata": {},
   "outputs": [],
   "source": [
    "translation = translator.translate(\"Khurshid Mahal Road\")"
   ]
  },
  {
   "cell_type": "code",
   "execution_count": null,
   "id": "6163e666",
   "metadata": {},
   "outputs": [],
   "source": [
    "translation"
   ]
  },
  {
   "cell_type": "code",
   "execution_count": null,
   "id": "39ddcb90",
   "metadata": {},
   "outputs": [],
   "source": [
    "bn_phrases = catalog.load(\"bn_phrases\")"
   ]
  },
  {
   "cell_type": "code",
   "execution_count": null,
   "id": "18821ccf",
   "metadata": {},
   "outputs": [],
   "source": [
    "bn_phrases"
   ]
  },
  {
   "cell_type": "code",
   "execution_count": null,
   "id": "7ad0779b",
   "metadata": {},
   "outputs": [],
   "source": [
    "import googletrans\n",
    "from googletrans import Translator\n",
    "#initialize the Translator\n",
    "translator = Translator()"
   ]
  },
  {
   "cell_type": "code",
   "execution_count": null,
   "id": "784bf24f",
   "metadata": {},
   "outputs": [],
   "source": [
    "source_lan = \"bn\"  #en is the code for Hindi Language\n",
    "translated_to= \"en\" #hi is the code for Hindi Language"
   ]
  },
  {
   "cell_type": "code",
   "execution_count": null,
   "id": "8869ee66",
   "metadata": {
    "scrolled": true
   },
   "outputs": [],
   "source": [
    "translated_words = {}\n",
    "for i, bn in enumerate(bn_phrases[\"bn_phrases\"]):\n",
    "    if i <= 10176:\n",
    "        continue\n",
    "    translated_words[bn] = translator.translate(bn, src=source_lan, dest = translated_to)\n",
    "    print(i)\n",
    "    print(translated_words[bn])"
   ]
  },
  {
   "cell_type": "code",
   "execution_count": null,
   "id": "d97105ff",
   "metadata": {},
   "outputs": [],
   "source": [
    "# base_collected_data = []\n",
    "for bn_name, obj in translated_words.items():\n",
    "    base_collected_data.append((bn_name, obj.text))"
   ]
  },
  {
   "cell_type": "code",
   "execution_count": null,
   "id": "be34ec55",
   "metadata": {},
   "outputs": [],
   "source": [
    "import pandas as pd\n",
    "translated_data_bn_to_en = pd.DataFrame(data=base_collected_data, columns=[\"bn_phrases\", \"en_translated\"])"
   ]
  },
  {
   "cell_type": "code",
   "execution_count": null,
   "id": "05f680aa",
   "metadata": {},
   "outputs": [],
   "source": [
    "translated_data_bn_to_en.to_csv(\"needed_bn_to_en.csv\")"
   ]
  },
  {
   "cell_type": "markdown",
   "id": "a0bc7bc9",
   "metadata": {},
   "source": [
    "For ENglish"
   ]
  },
  {
   "cell_type": "code",
   "execution_count": null,
   "id": "628ee20a",
   "metadata": {},
   "outputs": [],
   "source": [
    "en_phrases = catalog.load(\"en_phrases\")"
   ]
  },
  {
   "cell_type": "code",
   "execution_count": null,
   "id": "674f29c3",
   "metadata": {},
   "outputs": [],
   "source": [
    "en_phrases[\"en_phrases\"]"
   ]
  },
  {
   "cell_type": "code",
   "execution_count": null,
   "id": "cdcf164d",
   "metadata": {},
   "outputs": [],
   "source": [
    "import pandas as pd\n",
    "previous_data = pd.read_csv(\"needed_en_to_bn_infinite_part_01.csv\")"
   ]
  },
  {
   "cell_type": "code",
   "execution_count": null,
   "id": "00b2d762",
   "metadata": {},
   "outputs": [],
   "source": [
    "base_collected_data = list(previous_data[[\"en_phrases\", \"bn_translated\"]].itertuples(index=False))"
   ]
  },
  {
   "cell_type": "code",
   "execution_count": null,
   "id": "d23b64c3",
   "metadata": {},
   "outputs": [],
   "source": [
    "base_collected_data[0]"
   ]
  },
  {
   "cell_type": "code",
   "execution_count": null,
   "id": "a85f202a",
   "metadata": {},
   "outputs": [],
   "source": [
    "previous_data"
   ]
  },
  {
   "cell_type": "code",
   "execution_count": null,
   "id": "fd1acf12",
   "metadata": {},
   "outputs": [],
   "source": [
    "import googletrans\n",
    "from googletrans import Translator\n",
    "#initialize the Translator\n",
    "translator = Translator()"
   ]
  },
  {
   "cell_type": "code",
   "execution_count": null,
   "id": "bb7cbb30",
   "metadata": {},
   "outputs": [],
   "source": [
    "source_lan = \"en\"  #en is the code for Hindi Language\n",
    "translated_to= \"bn\" #hi is the code for Hindi Languag"
   ]
  },
  {
   "cell_type": "code",
   "execution_count": null,
   "id": "175f7b38",
   "metadata": {},
   "outputs": [],
   "source": [
    "en_phrases.iloc[3987]"
   ]
  },
  {
   "cell_type": "code",
   "execution_count": null,
   "id": "93b3f5ed",
   "metadata": {},
   "outputs": [],
   "source": [
    "base_collected_data = []"
   ]
  },
  {
   "cell_type": "code",
   "execution_count": null,
   "id": "648a5bde",
   "metadata": {},
   "outputs": [],
   "source": [
    "final = 49256\n",
    "k = 30000\n",
    "while 1:\n",
    "    translated_words = {}\n",
    "    try:\n",
    "        for i, en in enumerate(en_phrases[\"en_phrases\"]):\n",
    "            if i <= k:\n",
    "                continue\n",
    "            translated_words[en] = translator.translate(en, src=source_lan, dest = translated_to)\n",
    "            print(i)\n",
    "            print(translated_words[en])\n",
    "        if i > 49000:\n",
    "            break\n",
    "    except:\n",
    "        k = i\n",
    "        for en_name, obj in translated_words.items():\n",
    "            base_collected_data.append((en_name, obj.text))\n",
    "        translated_data_en_to_bn = pd.DataFrame(data=base_collected_data, columns=[\"en_phrases\", \"bn_translated\"])\n",
    "        translated_data_en_to_bn.to_csv(\"needed_en_to_bn_infinite.csv\")"
   ]
  },
  {
   "cell_type": "code",
   "execution_count": null,
   "id": "29e3c9e3",
   "metadata": {
    "scrolled": true
   },
   "outputs": [],
   "source": [
    "translated_words = {}\n",
    "for i, en in enumerate(en_phrases[\"en_phrases\"]):\n",
    "    if i <= 5579:\n",
    "        continue\n",
    "    translated_words[en] = translator.translate(en, src=source_lan, dest = translated_to)\n",
    "    print(i)\n",
    "    print(translated_words[en])"
   ]
  },
  {
   "cell_type": "code",
   "execution_count": null,
   "id": "a6c9fad0",
   "metadata": {},
   "outputs": [],
   "source": [
    "# base_collected_data = []\n",
    "for en_name, obj in translated_words.items():\n",
    "    base_collected_data.append((en_name, obj.text))"
   ]
  },
  {
   "cell_type": "code",
   "execution_count": null,
   "id": "a98a3d6a",
   "metadata": {},
   "outputs": [],
   "source": [
    "import pandas as pd\n",
    "translated_data_en_to_bn = pd.DataFrame(data=base_collected_data, columns=[\"en_phrases\", \"bn_translated\"])"
   ]
  },
  {
   "cell_type": "code",
   "execution_count": null,
   "id": "eeb68647",
   "metadata": {},
   "outputs": [],
   "source": [
    "# 3987 is missing\n",
    "translated_data_en_to_bn.to_csv(\"needed_en_to_bn_part_02.csv\")"
   ]
  },
  {
   "cell_type": "code",
   "execution_count": null,
   "id": "3a1d2255",
   "metadata": {},
   "outputs": [],
   "source": [
    "translated_data_en_to_bn"
   ]
  },
  {
   "cell_type": "code",
   "execution_count": null,
   "id": "bba03aa2",
   "metadata": {},
   "outputs": [],
   "source": [
    "import pandas as pd"
   ]
  },
  {
   "cell_type": "code",
   "execution_count": null,
   "id": "94fe264c",
   "metadata": {},
   "outputs": [],
   "source": [
    "part_01 = pd.read_csv(\"needed_en_to_bn_infinite_final_2.csv\", index_col=0)\n",
    "part_02 = pd.read_csv(\"infinite.csv\", index_col=0)"
   ]
  },
  {
   "cell_type": "code",
   "execution_count": null,
   "id": "a53e627a",
   "metadata": {},
   "outputs": [],
   "source": [
    "pd.concat([part_01, part_02]).reset_index(drop=True).drop_duplicates(keep=\"first\").to_csv(\"needed_en_to_bn_infinite_final_3.csv\")"
   ]
  },
  {
   "cell_type": "code",
   "execution_count": null,
   "id": "01bb03fb",
   "metadata": {},
   "outputs": [],
   "source": [
    "translated = pd.read_csv(\"needed_en_to_bn_infinite_final_3.csv\", index_col=0)"
   ]
  },
  {
   "cell_type": "code",
   "execution_count": null,
   "id": "7ecb7024",
   "metadata": {},
   "outputs": [],
   "source": [
    "translated"
   ]
  },
  {
   "cell_type": "code",
   "execution_count": null,
   "id": "6f6405ac",
   "metadata": {},
   "outputs": [],
   "source": [
    "translated[\"bn_translated\"]=translated.bn_translated.combine_first(translated[\"{translated_to}_translated\"])"
   ]
  },
  {
   "cell_type": "code",
   "execution_count": null,
   "id": "8a2b0094",
   "metadata": {},
   "outputs": [],
   "source": [
    "translated.drop_duplicates(keep=\"first\")"
   ]
  },
  {
   "cell_type": "code",
   "execution_count": null,
   "id": "986a3c0e",
   "metadata": {},
   "outputs": [],
   "source": [
    "translated = translated[[\"en_phrases\", \"bn_translated\"]].reset_index(drop=True)"
   ]
  },
  {
   "cell_type": "code",
   "execution_count": null,
   "id": "ebd1e11b",
   "metadata": {},
   "outputs": [],
   "source": []
  },
  {
   "cell_type": "code",
   "execution_count": null,
   "id": "8d7a61c2",
   "metadata": {},
   "outputs": [],
   "source": [
    "translated[[\"en_phrases\", \"bn_translated\"]].to_csv(\"needed_en_to_bn_infinite_final_3.csv\")"
   ]
  },
  {
   "cell_type": "code",
   "execution_count": null,
   "id": "f02e7f72",
   "metadata": {},
   "outputs": [],
   "source": [
    "part_all = pd.read_csv(\"../data/02_intermediate/bdh3/csv/en_phrases_to_translate.csv\")"
   ]
  },
  {
   "cell_type": "code",
   "execution_count": null,
   "id": "7bc4de5e",
   "metadata": {},
   "outputs": [],
   "source": [
    "part_all"
   ]
  },
  {
   "cell_type": "code",
   "execution_count": null,
   "id": "f4139876",
   "metadata": {},
   "outputs": [],
   "source": [
    "translated[\"bn_translated\"]=translated.bn_translated.combine_first(translated[\"{translated_to}_translated\"])"
   ]
  },
  {
   "cell_type": "code",
   "execution_count": null,
   "id": "a65d4ae5",
   "metadata": {},
   "outputs": [],
   "source": [
    "merged = part_all.merge(translated, on=\"en_phrases\", how=\"left\")"
   ]
  },
  {
   "cell_type": "code",
   "execution_count": null,
   "id": "1dd82289",
   "metadata": {},
   "outputs": [],
   "source": [
    "merged[merged[\"bn_translated\"].isna()][[\"en_phrases\"]].to_csv(\"remaining_en_phrases_to_translate.csv\")"
   ]
  },
  {
   "cell_type": "code",
   "execution_count": null,
   "id": "8c0674b9",
   "metadata": {},
   "outputs": [],
   "source": [
    "data = merged[merged[\"bn_translated\"].isna()][[\"en_phrases\"]]"
   ]
  },
  {
   "cell_type": "code",
   "execution_count": null,
   "id": "1eb3815d",
   "metadata": {},
   "outputs": [],
   "source": [
    "data"
   ]
  },
  {
   "cell_type": "code",
   "execution_count": null,
   "id": "5bd643e6",
   "metadata": {},
   "outputs": [],
   "source": [
    "def run_infinitely(data: pd.DataFrame, *args, source_lan, translated_to, tmp_save_path=\"infinite.csv\"):\n",
    "    data_len = len(data[f\"{source_lan}_phrases\"])\n",
    "    translator = Translator()\n",
    "    base_collected_data = []\n",
    "    translated_data = None\n",
    "    counter = 0\n",
    "    while True:\n",
    "        if counter >= data_len - 1:\n",
    "            break\n",
    "        translated_words = {}\n",
    "        try:\n",
    "            for i, word_to_translate in enumerate(data[f\"{source_lan}_phrases\"]):\n",
    "                if i <= counter:\n",
    "                    continue\n",
    "                translated_words[word_to_translate] = translator.translate(word_to_translate, src=source_lan, dest=translated_to)\n",
    "                print(f\"completed {i} out of {data_len}\")\n",
    "        except KeyboardInterrupt:\n",
    "            for word_to_translate, translated_obj in translated_words.items():\n",
    "                base_collected_data.append((word_to_translate, translated_obj.text))\n",
    "                translated_data = pd.DataFrame(data=base_collected_data, columns=[f\"{source_lan}_phrases\", f\"{translated_to}_translated\"])\n",
    "            translated_data.to_csv(tmp_save_path)\n",
    "            break\n",
    "        except Exception as e:\n",
    "            for word_to_translate, translated_obj in translated_words.items():\n",
    "                base_collected_data.append((word_to_translate, translated_obj.text))\n",
    "                translated_data = pd.DataFrame(data=base_collected_data, columns=[f\"{source_lan}_phrases\", f\"{translated_to}_translated\"])\n",
    "            translated_data.to_csv(tmp_save_path)\n",
    "        else:\n",
    "            for word_to_translate, translated_obj in translated_words.items():\n",
    "                base_collected_data.append((word_to_translate, translated_obj.text))\n",
    "                translated_data = pd.DataFrame(data=base_collected_data, columns=[f\"{source_lan}_phrases\", f\"{translated_to}_translated\"])\n",
    "        finally:\n",
    "            counter = i\n",
    "    translated_data.to_csv(tmp_save_path) \n",
    "    return translated_data"
   ]
  },
  {
   "cell_type": "code",
   "execution_count": null,
   "id": "124d4a19",
   "metadata": {},
   "outputs": [],
   "source": [
    "data.sort_values(by=\"en_phrases\")"
   ]
  },
  {
   "cell_type": "code",
   "execution_count": null,
   "id": "d809a304",
   "metadata": {},
   "outputs": [],
   "source": [
    "from googletrans import Translator"
   ]
  },
  {
   "cell_type": "code",
   "execution_count": null,
   "id": "8b721981",
   "metadata": {
    "scrolled": true
   },
   "outputs": [],
   "source": [
    "run_infinitely(data.sort_values(by=\"en_phrases\"), True, source_lan='en', translated_to='bn')"
   ]
  },
  {
   "cell_type": "code",
   "execution_count": null,
   "id": "e7c2f8ef",
   "metadata": {},
   "outputs": [],
   "source": [
    "data"
   ]
  },
  {
   "cell_type": "code",
   "execution_count": null,
   "id": "263dbf04",
   "metadata": {},
   "outputs": [],
   "source": []
  }
 ],
 "metadata": {
  "kernelspec": {
   "display_name": "Python 3 (ipykernel)",
   "language": "python",
   "name": "python3"
  },
  "language_info": {
   "codemirror_mode": {
    "name": "ipython",
    "version": 3
   },
   "file_extension": ".py",
   "mimetype": "text/x-python",
   "name": "python",
   "nbconvert_exporter": "python",
   "pygments_lexer": "ipython3",
   "version": "3.9.10"
  }
 },
 "nbformat": 4,
 "nbformat_minor": 5
}
