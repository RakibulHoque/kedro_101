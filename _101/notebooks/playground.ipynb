{
 "cells": [
  {
   "cell_type": "markdown",
   "id": "f48f271a",
   "metadata": {},
   "source": [
    "Loading Data"
   ]
  },
  {
   "cell_type": "code",
   "execution_count": null,
   "id": "f0d7eae3",
   "metadata": {},
   "outputs": [],
   "source": [
    " %load_ext kedro.ipython"
   ]
  },
  {
   "cell_type": "code",
   "execution_count": null,
   "id": "8b6fa3a1",
   "metadata": {},
   "outputs": [],
   "source": [
    "catalog.list()"
   ]
  },
  {
   "cell_type": "code",
   "execution_count": null,
   "id": "ad7c4ff6",
   "metadata": {},
   "outputs": [],
   "source": [
    "gadm_data = catalog.load(\"geojson_bangladesh\")\n",
    "gadm_data"
   ]
  },
  {
   "cell_type": "markdown",
   "id": "5d66c94d",
   "metadata": {},
   "source": [
    "Cleaning Data"
   ]
  },
  {
   "cell_type": "code",
   "execution_count": null,
   "id": "d2b58bce",
   "metadata": {},
   "outputs": [],
   "source": [
    "import geopandas as gpd"
   ]
  },
  {
   "cell_type": "code",
   "execution_count": null,
   "id": "5f165df5",
   "metadata": {},
   "outputs": [],
   "source": [
    "bdl0 = gadm_data['gadm41_BGD_0.json']()\n",
    "bdl1 = gadm_data['gadm41_BGD_1.json']()\n",
    "bdl2 = gadm_data['gadm41_BGD_2.json']()\n",
    "bdl3 = gadm_data['gadm41_BGD_3.json']()\n",
    "bdl4 = gadm_data['gadm41_BGD_4.json']()"
   ]
  },
  {
   "cell_type": "code",
   "execution_count": null,
   "id": "8e192fc3",
   "metadata": {},
   "outputs": [],
   "source": [
    "bdl1"
   ]
  },
  {
   "cell_type": "code",
   "execution_count": null,
   "id": "a5678319",
   "metadata": {},
   "outputs": [],
   "source": [
    "bdl4[\"geometry\"].iloc[100]"
   ]
  },
  {
   "cell_type": "code",
   "execution_count": null,
   "id": "cde1d6be",
   "metadata": {},
   "outputs": [],
   "source": []
  }
 ],
 "metadata": {
  "kernelspec": {
   "display_name": "Python 3 (ipykernel)",
   "language": "python",
   "name": "python3"
  },
  "language_info": {
   "codemirror_mode": {
    "name": "ipython",
    "version": 3
   },
   "file_extension": ".py",
   "mimetype": "text/x-python",
   "name": "python",
   "nbconvert_exporter": "python",
   "pygments_lexer": "ipython3",
   "version": "3.9.10"
  }
 },
 "nbformat": 4,
 "nbformat_minor": 5
}
