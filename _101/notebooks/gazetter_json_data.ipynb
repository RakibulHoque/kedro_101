{
 "cells": [
  {
   "cell_type": "code",
   "execution_count": null,
   "id": "81943d8b",
   "metadata": {},
   "outputs": [],
   "source": [
    "import pandas as pd"
   ]
  },
  {
   "cell_type": "code",
   "execution_count": null,
   "id": "3e2d8964",
   "metadata": {},
   "outputs": [],
   "source": [
    "datapath = \"D:/MY_REPOSITORY/kedro_101/osm/data/java_poi/javaoutput.json\""
   ]
  },
  {
   "cell_type": "code",
   "execution_count": null,
   "id": "4df3aebd",
   "metadata": {},
   "outputs": [],
   "source": [
    "data = pd.read_json(datapath, lines=True, chunksize= 1000)"
   ]
  },
  {
   "cell_type": "code",
   "execution_count": null,
   "id": "f6522aee",
   "metadata": {},
   "outputs": [],
   "source": [
    "counter = 1\n",
    "for i, d in enumerate(data):\n",
    "    counter += i"
   ]
  },
  {
   "cell_type": "code",
   "execution_count": null,
   "id": "015a69e7",
   "metadata": {},
   "outputs": [],
   "source": [
    "counter"
   ]
  },
  {
   "cell_type": "code",
   "execution_count": null,
   "id": "aa918eab",
   "metadata": {},
   "outputs": [],
   "source": [
    "counter*1000"
   ]
  },
  {
   "cell_type": "code",
   "execution_count": null,
   "id": "b55af76b",
   "metadata": {},
   "outputs": [],
   "source": [
    "x.columns"
   ]
  },
  {
   "cell_type": "code",
   "execution_count": null,
   "id": "d284b707",
   "metadata": {},
   "outputs": [],
   "source": [
    "x[\"feature_id\"]"
   ]
  },
  {
   "cell_type": "code",
   "execution_count": null,
   "id": "cd502cdf",
   "metadata": {},
   "outputs": [],
   "source": [
    "x.to_csv(\"chunk_poi.csv\")"
   ]
  },
  {
   "cell_type": "code",
   "execution_count": null,
   "id": "4a7781d8",
   "metadata": {},
   "outputs": [],
   "source": []
  }
 ],
 "metadata": {
  "kernelspec": {
   "display_name": "Python 3 (ipykernel)",
   "language": "python",
   "name": "python3"
  },
  "language_info": {
   "codemirror_mode": {
    "name": "ipython",
    "version": 3
   },
   "file_extension": ".py",
   "mimetype": "text/x-python",
   "name": "python",
   "nbconvert_exporter": "python",
   "pygments_lexer": "ipython3",
   "version": "3.9.10"
  }
 },
 "nbformat": 4,
 "nbformat_minor": 5
}
